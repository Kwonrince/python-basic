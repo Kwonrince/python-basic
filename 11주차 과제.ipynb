{
 "cells": [
  {
   "cell_type": "code",
   "execution_count": 1,
   "id": "c4fee41b-7a6e-4b7c-a638-63ca6c13e20e",
   "metadata": {},
   "outputs": [],
   "source": [
    "import numpy as np\n",
    "from sklearn.datasets import load_iris\n",
    "from sklearn.model_selection import train_test_split\n",
    "import torch\n",
    "import torch.nn as nn\n",
    "from torch.utils.data import DataLoader\n",
    "import matplotlib.pyplot as plt"
   ]
  },
  {
   "cell_type": "code",
   "execution_count": 2,
   "id": "8b091551-41b3-4a4f-8633-1e4f940a810c",
   "metadata": {},
   "outputs": [],
   "source": [
    "iris_data = load_iris().data\n",
    "iris_target = load_iris().target\n",
    "iris = np.concatenate([iris_data, iris_target[:,np.newaxis]], axis=1)\n",
    "\n",
    "train_data, test_data = train_test_split(iris, test_size=0.1)"
   ]
  },
  {
   "cell_type": "code",
   "execution_count": 3,
   "id": "3494487d-70e2-4f41-89e7-4cdafcf788af",
   "metadata": {},
   "outputs": [],
   "source": [
    "train_loader = DataLoader(train_data, batch_size=8, shuffle=True)\n",
    "test_loader = DataLoader(test_data, batch_size=8)"
   ]
  },
  {
   "cell_type": "code",
   "execution_count": 4,
   "id": "cd285db2-978b-4ebc-a3e6-6751da5a2409",
   "metadata": {},
   "outputs": [],
   "source": [
    "class Net(nn.Module):\n",
    "    def __init__(self):\n",
    "        super().__init__()\n",
    "        self.linear1 = nn.Linear(4, 32)\n",
    "        self.linear2 = nn.Linear(32, 16)\n",
    "        self.linear3 = nn.Linear(16, 3)\n",
    "        \n",
    "    def forward(self, x):\n",
    "        out = self.linear1(x)\n",
    "        out = self.linear2(out)\n",
    "        out = self.linear3(out)\n",
    "        \n",
    "        return out"
   ]
  },
  {
   "cell_type": "code",
   "execution_count": 5,
   "id": "12a144dc-cbbf-4fe6-a60e-7c5a192a7cf1",
   "metadata": {},
   "outputs": [],
   "source": [
    "net = Net()\n",
    "optimizer = torch.optim.Adam(net.parameters())\n",
    "criterion = nn.CrossEntropyLoss()"
   ]
  },
  {
   "cell_type": "code",
   "execution_count": 6,
   "id": "57e049ea-ffd5-4d30-ad18-518a90ae9ad0",
   "metadata": {},
   "outputs": [
    {
     "name": "stdout",
     "output_type": "stream",
     "text": [
      "Epoch :  1 Train_Loss :  1.0433818101882935 Train_Acc :  38.51851851851852\n",
      "Test Loss :  0.9615925252437592 Test_Acc :  60.0\n",
      "Epoch :  2 Train_Loss :  0.8829365618088666 Train_Acc :  66.66666666666667\n",
      "Test Loss :  0.8554639220237732 Test_Acc :  60.0\n",
      "Epoch :  3 Train_Loss :  0.7654269688269671 Train_Acc :  71.85185185185185\n",
      "Test Loss :  0.7498616576194763 Test_Acc :  93.33333333333333\n",
      "Epoch :  4 Train_Loss :  0.6560421305544236 Train_Acc :  70.37037037037037\n",
      "Test Loss :  0.6643940806388855 Test_Acc :  66.66666666666667\n",
      "Epoch :  5 Train_Loss :  0.56546950340271 Train_Acc :  88.88888888888889\n",
      "Test Loss :  0.592229425907135 Test_Acc :  93.33333333333333\n",
      "Epoch :  6 Train_Loss :  0.501031921190374 Train_Acc :  73.33333333333333\n",
      "Test Loss :  0.5375711619853973 Test_Acc :  93.33333333333333\n",
      "Epoch :  7 Train_Loss :  0.45027060193174023 Train_Acc :  89.62962962962963\n",
      "Test Loss :  0.48743875324726105 Test_Acc :  93.33333333333333\n",
      "Epoch :  8 Train_Loss :  0.4133537911316928 Train_Acc :  91.85185185185185\n",
      "Test Loss :  0.4479985386133194 Test_Acc :  93.33333333333333\n",
      "Epoch :  9 Train_Loss :  0.37600208555950837 Train_Acc :  96.29629629629629\n",
      "Test Loss :  0.41201281547546387 Test_Acc :  93.33333333333333\n",
      "Epoch :  10 Train_Loss :  0.3455909937620163 Train_Acc :  95.55555555555556\n",
      "Test Loss :  0.3824607729911804 Test_Acc :  93.33333333333333\n",
      "Epoch :  11 Train_Loss :  0.31930311374804554 Train_Acc :  94.81481481481481\n",
      "Test Loss :  0.3468249589204788 Test_Acc :  93.33333333333333\n",
      "Epoch :  12 Train_Loss :  0.3011614443624721 Train_Acc :  91.85185185185185\n",
      "Test Loss :  0.32548968493938446 Test_Acc :  100.0\n",
      "Epoch :  13 Train_Loss :  0.2746657834333532 Train_Acc :  94.81481481481481\n",
      "Test Loss :  0.2956216037273407 Test_Acc :  93.33333333333333\n",
      "Epoch :  14 Train_Loss :  0.25005389750003815 Train_Acc :  96.29629629629629\n",
      "Test Loss :  0.2764012813568115 Test_Acc :  93.33333333333333\n",
      "Epoch :  15 Train_Loss :  0.23504026803900213 Train_Acc :  95.55555555555556\n",
      "Test Loss :  0.25891777127981186 Test_Acc :  100.0\n",
      "Epoch :  16 Train_Loss :  0.21467189841410694 Train_Acc :  96.29629629629629\n",
      "Test Loss :  0.23197614401578903 Test_Acc :  93.33333333333333\n",
      "Epoch :  17 Train_Loss :  0.2075049903462915 Train_Acc :  96.29629629629629\n",
      "Test Loss :  0.23975419253110886 Test_Acc :  93.33333333333333\n",
      "Epoch :  18 Train_Loss :  0.1958818093818777 Train_Acc :  94.81481481481481\n",
      "Test Loss :  0.22042566537857056 Test_Acc :  93.33333333333333\n",
      "Epoch :  19 Train_Loss :  0.17626656153622797 Train_Acc :  97.03703703703704\n",
      "Test Loss :  0.19786206632852554 Test_Acc :  93.33333333333333\n",
      "Epoch :  20 Train_Loss :  0.1555706608821364 Train_Acc :  97.77777777777777\n",
      "Test Loss :  0.177101731300354 Test_Acc :  93.33333333333333\n"
     ]
    }
   ],
   "source": [
    "train_loss_, test_loss_, train_acc_, test_acc_ = [], [], [], []\n",
    "\n",
    "for epoch in range(1, 21):\n",
    "    total, correct, train_loss = 0, 0, 0\n",
    "    net.train()\n",
    "    for batch, data in enumerate(train_loader):\n",
    "        inputs = data[:,:-1].float()\n",
    "        targets = data[:,-1].long()\n",
    "        \n",
    "        optimizer.zero_grad()\n",
    "        outputs = net(inputs)\n",
    "        loss = criterion(outputs, targets)\n",
    "        loss.backward()\n",
    "        optimizer.step()\n",
    "        \n",
    "        train_loss += loss.item()\n",
    "        _, predicted = outputs.max(1)\n",
    "        total += targets.size(0)\n",
    "        correct += predicted.eq(targets).sum().item()\n",
    "    \n",
    "    print('Epoch : ', epoch,\n",
    "          'Train_Loss : ', train_loss/(batch+1),\n",
    "          'Train_Acc : ', 100.*correct/total)\n",
    "    \n",
    "    train_loss_.append(train_loss/(batch+1))\n",
    "    train_acc_.append(100.*correct/total)\n",
    "    \n",
    "    total, correct, test_loss = 0, 0, 0\n",
    "    net.eval()\n",
    "    with torch.no_grad():\n",
    "        for batch, data in enumerate(test_loader):\n",
    "            inputs = data[:,:-1].float()\n",
    "            targets = data[:,-1].long()\n",
    "            \n",
    "            outputs = net(inputs)\n",
    "            loss = criterion(outputs, targets)\n",
    "            \n",
    "            test_loss += loss.item()\n",
    "            _, predicted = outputs.max(1)\n",
    "            total += targets.size(0)\n",
    "            correct += predicted.eq(targets).sum().item()\n",
    "    \n",
    "    print('Test Loss : ', test_loss/(batch+1),\n",
    "          'Test_Acc : ', 100.*correct/total)\n",
    "    \n",
    "    test_loss_.append(test_loss/(batch+1))\n",
    "    test_acc_.append(100.*correct/total)"
   ]
  },
  {
   "cell_type": "code",
   "execution_count": 7,
   "id": "9af5df49-04f3-41a0-bfbd-42a5b082cce2",
   "metadata": {},
   "outputs": [
    {
     "data": {
      "image/png": "[encoded data removed]",
      "text/plain": [
       "<Figure size 432x288 with 1 Axes>"
      ]
     },
     "metadata": {
      "needs_background": "light"
     },
     "output_type": "display_data"
    },
    {
     "data": {
      "image/png": "[encoded data removed]",
      "text/plain": [
       "<Figure size 432x288 with 1 Axes>"
      ]
     },
     "metadata": {
      "needs_background": "light"
     },
     "output_type": "display_data"
    }
   ],
   "source": [
    "plt.plot(range(1,21), train_loss_, label='train_loss')\n",
    "plt.plot(range(1,21), test_loss_, label='test_loss')\n",
    "plt.legend()\n",
    "plt.show()\n",
    "\n",
    "plt.plot(range(1,21), train_acc_, label='train_acc')\n",
    "plt.plot(range(1,21), test_acc_, label='test_acc')\n",
    "plt.legend()\n",
    "plt.show()"
   ]
  }
 ],
 "metadata": {
  "kernelspec": {
   "display_name": "Python 3 (ipykernel)",
   "language": "python",
   "name": "python3"
  },
  "language_info": {
   "codemirror_mode": {
    "name": "ipython",
    "version": 3
   },
   "file_extension": ".py",
   "mimetype": "text/x-python",
   "name": "python",
   "nbconvert_exporter": "python",
   "pygments_lexer": "ipython3",
   "version": "3.8.12"
  }
 },
 "nbformat": 4,
 "nbformat_minor": 5
}
