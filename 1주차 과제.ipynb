{
 "cells": [
  {
   "cell_type": "markdown",
   "id": "3184a2b0-b795-4019-9ad3-4ef2f8224f17",
   "metadata": {},
   "source": [
    "홀짝판별"
   ]
  },
  {
   "cell_type": "code",
   "execution_count": 1,
   "id": "d45639af-569b-4b75-b86c-2b1795d8499b",
   "metadata": {},
   "outputs": [
    {
     "name": "stdin",
     "output_type": "stream",
     "text": [
      " 5\n"
     ]
    },
    {
     "name": "stdout",
     "output_type": "stream",
     "text": [
      "odd\n"
     ]
    }
   ],
   "source": [
    "natural = int(input())\n",
    "assert natural >= 1, \"자연수를 입력해 주세요\"\n",
    "\n",
    "if natural % 2 == 0:\n",
    "    print(\"even\")\n",
    "else:\n",
    "    print(\"odd\")"
   ]
  },
  {
   "cell_type": "markdown",
   "id": "a25d0381-f217-46bc-9acb-eb17a4472d1d",
   "metadata": {},
   "source": [
    "별 출력"
   ]
  },
  {
   "cell_type": "code",
   "execution_count": 2,
   "id": "d40fd8d8-8a03-4466-a449-bec1528601eb",
   "metadata": {},
   "outputs": [
    {
     "name": "stdin",
     "output_type": "stream",
     "text": [
      " 5\n"
     ]
    },
    {
     "name": "stdout",
     "output_type": "stream",
     "text": [
      " **\n",
      "  **\n",
      "   **\n",
      "    **\n",
      "     **\n"
     ]
    }
   ],
   "source": [
    "n = int(input())\n",
    "assert n >= 1, \"1 이상의 정수를 입력해 주세요\"\n",
    "\n",
    "for i in range(n):\n",
    "    print(\" \"*(i), \"**\")"
   ]
  }
 ],
 "metadata": {
  "kernelspec": {
   "display_name": "Python 3",
   "language": "python",
   "name": "python3"
  },
  "language_info": {
   "codemirror_mode": {
    "name": "ipython",
    "version": 3
   },
   "file_extension": ".py",
   "mimetype": "text/x-python",
   "name": "python",
   "nbconvert_exporter": "python",
   "pygments_lexer": "ipython3",
   "version": "3.8.8"
  }
 },
 "nbformat": 4,
 "nbformat_minor": 5
}
