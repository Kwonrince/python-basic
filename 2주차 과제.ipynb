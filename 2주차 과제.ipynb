{
 "cells": [
  {
   "cell_type": "markdown",
   "id": "596155cc-3994-4b1d-91dc-84335cd01c26",
   "metadata": {},
   "source": [
    "## 최대최소구하기"
   ]
  },
  {
   "cell_type": "code",
   "execution_count": 1,
   "id": "1db659a5-bb67-4b53-8ae2-470c7651978a",
   "metadata": {},
   "outputs": [
    {
     "name": "stdin",
     "output_type": "stream",
     "text": [
      " [3,5,1,7,8,14,9]\n"
     ]
    },
    {
     "name": "stdout",
     "output_type": "stream",
     "text": [
      "홀수 최대값 :  9\n",
      "짝수 최소값 :  8\n"
     ]
    }
   ],
   "source": [
    "ls = input()\n",
    "ls = ls.lstrip('[')\n",
    "ls = ls.rstrip(']')\n",
    "ls = ls.split(',')\n",
    "\n",
    "even, odd = [], []\n",
    "for i in ls:\n",
    "    assert int(i) >= 1, \"자연수를 입력해 주세요\"\n",
    "    if int(i)%2==0:\n",
    "        even.append(int(i))\n",
    "    else:\n",
    "        odd.append(int(i))\n",
    "\n",
    "print('홀수 최대값 : ', max(odd))\n",
    "print('짝수 최소값 : ', min(even))"
   ]
  },
  {
   "cell_type": "markdown",
   "id": "d6f5cf2d-cb9b-48a7-bbaa-e1d37c094517",
   "metadata": {},
   "source": [
    "## 단어 비교 함수"
   ]
  },
  {
   "cell_type": "code",
   "execution_count": 2,
   "id": "6639a821-cc2e-409b-9e2b-8bb84efe92e5",
   "metadata": {},
   "outputs": [
    {
     "name": "stdin",
     "output_type": "stream",
     "text": [
      " string\n"
     ]
    },
    {
     "name": "stdout",
     "output_type": "stream",
     "text": [
      "ri\n"
     ]
    }
   ],
   "source": [
    "s = input()\n",
    "\n",
    "if len(s)%2==0:\n",
    "    print(s[int(len(s)/2)-1:int(len(s)/2)+1])\n",
    "else:\n",
    "    print(s[int(len(s)/2)])"
   ]
  },
  {
   "cell_type": "markdown",
   "id": "bf4eaff4-b647-4949-bd84-67c1ace32331",
   "metadata": {},
   "source": [
    "## 문자열 변환 함수1"
   ]
  },
  {
   "cell_type": "code",
   "execution_count": 3,
   "id": "4e9970d1-6206-41f0-94d1-b9edcdb545c7",
   "metadata": {},
   "outputs": [
    {
     "name": "stdout",
     "output_type": "stream",
     "text": [
      "정수 a를 입력하세요 : \n"
     ]
    },
    {
     "name": "stdin",
     "output_type": "stream",
     "text": [
      " 6\n"
     ]
    },
    {
     "name": "stdout",
     "output_type": "stream",
     "text": [
      "정수 b를 입력하세요 : \n"
     ]
    },
    {
     "name": "stdin",
     "output_type": "stream",
     "text": [
      " 3\n"
     ]
    },
    {
     "name": "stdout",
     "output_type": "stream",
     "text": [
      "6 + 3  =  9\n",
      "6 - 3  =  3\n",
      "6 * 3  =  18\n",
      "6 / 3  =  2\n"
     ]
    }
   ],
   "source": [
    "print(\"정수 a를 입력하세요 : \")\n",
    "a = int(input())\n",
    "print(\"정수 b를 입력하세요 : \")\n",
    "b = int(input())\n",
    "\n",
    "print(a,\"+\",b,\" = \", a+b)\n",
    "print(a,\"-\",b,\" = \", a-b)\n",
    "print(a,\"*\",b,\" = \", a*b)\n",
    "print(a,\"/\",b,\" = \", int(a/b))"
   ]
  },
  {
   "cell_type": "markdown",
   "id": "e7541d49-a291-4ebf-8808-233cb8a9dfa1",
   "metadata": {},
   "source": [
    "## 문자열 변환 함수2"
   ]
  },
  {
   "cell_type": "code",
   "execution_count": 4,
   "id": "549e395c-11ef-406d-9d49-7a395f67a06b",
   "metadata": {},
   "outputs": [
    {
     "name": "stdin",
     "output_type": "stream",
     "text": [
      " BcJKi LAs\n"
     ]
    },
    {
     "name": "stdout",
     "output_type": "stream",
     "text": [
      "bCjkIlaS\n"
     ]
    }
   ],
   "source": [
    "s = input().replace(' ', '')\n",
    "\n",
    "re_s = []\n",
    "for i in s:\n",
    "    if i.isupper():\n",
    "        i = i.lower()\n",
    "    else:\n",
    "        i = i.upper()\n",
    "    re_s.append(i)\n",
    "\n",
    "print(''.join(re_s))"
   ]
  }
 ],
 "metadata": {
  "kernelspec": {
   "display_name": "Python 3",
   "language": "python",
   "name": "python3"
  },
  "language_info": {
   "codemirror_mode": {
    "name": "ipython",
    "version": 3
   },
   "file_extension": ".py",
   "mimetype": "text/x-python",
   "name": "python",
   "nbconvert_exporter": "python",
   "pygments_lexer": "ipython3",
   "version": "3.8.8"
  }
 },
 "nbformat": 4,
 "nbformat_minor": 5
}
