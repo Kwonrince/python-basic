{
 "cells": [
  {
   "cell_type": "markdown",
   "id": "47fab4c5-913e-4fc8-bef3-2235dac0bd72",
   "metadata": {},
   "source": [
    "## 1."
   ]
  },
  {
   "cell_type": "code",
   "execution_count": 1,
   "id": "264cbeef-8e77-4561-9203-9d6f1cc58c53",
   "metadata": {},
   "outputs": [
    {
     "name": "stdin",
     "output_type": "stream",
     "text": [
      " 4\n"
     ]
    },
    {
     "name": "stdout",
     "output_type": "stream",
     "text": [
      "4\n",
      "3\n",
      "2\n",
      "1\n"
     ]
    }
   ],
   "source": [
    "n = int(input())\n",
    "\n",
    "for i in range(n):\n",
    "    print(n-i)"
   ]
  },
  {
   "cell_type": "markdown",
   "id": "9366c91f-e27a-426c-840e-89f87b0ff507",
   "metadata": {},
   "source": [
    "## 2."
   ]
  },
  {
   "cell_type": "code",
   "execution_count": 19,
   "id": "503e879b-af49-4b43-ab5d-4540355a15e1",
   "metadata": {},
   "outputs": [
    {
     "name": "stdin",
     "output_type": "stream",
     "text": [
      " 8\n"
     ]
    },
    {
     "name": "stdout",
     "output_type": "stream",
     "text": [
      "********\n",
      "*      *\n",
      "*      *\n",
      "*      *\n",
      "*      *\n",
      "*      *\n",
      "*      *\n",
      "********\n"
     ]
    }
   ],
   "source": [
    "n = int(input())\n",
    "\n",
    "assert n>=3, \"3 이상의 정수를 입력하세요\"\n",
    "\n",
    "print(\"*\" * n)\n",
    "for i in range(n-2):\n",
    "    print(\"*\"+\" \"*(n-2)+\"*\")\n",
    "print(\"*\" * n)"
   ]
  },
  {
   "cell_type": "markdown",
   "id": "d2ae9ad5-aaca-47f6-9423-4f3c2900b5cd",
   "metadata": {},
   "source": [
    "## 3."
   ]
  },
  {
   "cell_type": "code",
   "execution_count": 5,
   "id": "c7772699-3f71-4fe5-83a8-bdb07627945d",
   "metadata": {},
   "outputs": [
    {
     "name": "stdin",
     "output_type": "stream",
     "text": [
      " -3\n",
      " 2\n"
     ]
    },
    {
     "name": "stdout",
     "output_type": "stream",
     "text": [
      "[-3, -6]\n"
     ]
    }
   ],
   "source": [
    "x = int(input())\n",
    "n = int(input())\n",
    "\n",
    "assert n>=0, \"자연수를 입력하세요\"\n",
    "\n",
    "ls = []\n",
    "for i in range(x, (x+x*n), x):\n",
    "    ls.append(i)\n",
    "\n",
    "print(ls)"
   ]
  },
  {
   "cell_type": "markdown",
   "id": "1847d38c-5b7b-450f-ac4b-657e9426ec5f",
   "metadata": {},
   "source": [
    "## 4."
   ]
  },
  {
   "cell_type": "code",
   "execution_count": 4,
   "id": "c1230b92-c1aa-4d43-9ec0-e091c0626d9d",
   "metadata": {},
   "outputs": [
    {
     "name": "stdin",
     "output_type": "stream",
     "text": [
      " [2,2,3,4,5,5,7]\n"
     ]
    },
    {
     "name": "stdout",
     "output_type": "stream",
     "text": [
      "[2, 3, 4, 5, 7]\n"
     ]
    }
   ],
   "source": [
    "ls = input()\n",
    "ls = ls.lstrip(\"[\").rstrip(\"]\")\n",
    "ls = list(map(int, ls.split(\",\")))\n",
    "ls = list(set(ls))\n",
    "print(ls)"
   ]
  },
  {
   "cell_type": "markdown",
   "id": "26b63e0c-f85a-4365-bff3-2efe393564f9",
   "metadata": {},
   "source": [
    "## 5."
   ]
  },
  {
   "cell_type": "code",
   "execution_count": 6,
   "id": "2011e4f4-73dc-4748-8a52-9c43da00e744",
   "metadata": {},
   "outputs": [
    {
     "name": "stdin",
     "output_type": "stream",
     "text": [
      " 2141235432632523\n"
     ]
    },
    {
     "name": "stdout",
     "output_type": "stream",
     "text": [
      "2,141,235,432,632,523\n"
     ]
    }
   ],
   "source": [
    "n = int(input())\n",
    "\n",
    "print('{:,}'.format(n))"
   ]
  },
  {
   "cell_type": "markdown",
   "id": "048f589f-2826-40bd-a41e-488253638ffe",
   "metadata": {},
   "source": [
    "## 6."
   ]
  },
  {
   "cell_type": "code",
   "execution_count": 8,
   "id": "38474dbb-ce82-40f1-959f-4be88325262d",
   "metadata": {},
   "outputs": [
    {
     "name": "stdin",
     "output_type": "stream",
     "text": [
      " three28one\n"
     ]
    },
    {
     "name": "stdout",
     "output_type": "stream",
     "text": [
      "3281\n"
     ]
    }
   ],
   "source": [
    "s = str(input())\n",
    "\n",
    "alpha_ls = ['zero', 'one', 'two', 'three', 'four', 'five', 'six', 'seven', 'eight', 'nine']\n",
    "digit_ls = [0,1,2,3,4,5,6,7,8,9]\n",
    "\n",
    "output = []\n",
    "cache = []\n",
    "\n",
    "for i in s:\n",
    "    if i.isdigit():\n",
    "        output.append(i)\n",
    "    elif i.isalpha():\n",
    "        cache.append(i.lower())\n",
    "        temp = \"\".join(cache)\n",
    "        if temp in alpha_ls:\n",
    "            output.append(str(digit_ls[alpha_ls.index(temp)]))\n",
    "            cache = []\n",
    "\n",
    "print(int(\"\".join(output)))"
   ]
  }
 ],
 "metadata": {
  "kernelspec": {
   "display_name": "Python 3 (ipykernel)",
   "language": "python",
   "name": "python3"
  },
  "language_info": {
   "codemirror_mode": {
    "name": "ipython",
    "version": 3
   },
   "file_extension": ".py",
   "mimetype": "text/x-python",
   "name": "python",
   "nbconvert_exporter": "python",
   "pygments_lexer": "ipython3",
   "version": "3.8.12"
  }
 },
 "nbformat": 4,
 "nbformat_minor": 5
}
