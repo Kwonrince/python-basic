{
 "cells": [
  {
   "cell_type": "markdown",
   "id": "201486ab-2975-41bc-9233-f8e1020402e5",
   "metadata": {},
   "source": [
    "## 1. 어떤 수 n이 입력되었을 때, 그 수를 뒤집어서 출력하는 코드 구현."
   ]
  },
  {
   "cell_type": "code",
   "execution_count": 1,
   "id": "e8b349b3-8761-48b1-9373-8c4a577695d7",
   "metadata": {},
   "outputs": [
    {
     "name": "stdin",
     "output_type": "stream",
     "text": [
      " 2571\n"
     ]
    },
    {
     "name": "stdout",
     "output_type": "stream",
     "text": [
      "input n :  2571\n",
      "-> 1752\n"
     ]
    }
   ],
   "source": [
    "n = input()\n",
    "\n",
    "print(\"input n : \", n)\n",
    "print(\"->\", int(str(n)[::-1]))"
   ]
  },
  {
   "cell_type": "markdown",
   "id": "9e17d71b-4f0d-49d9-8523-a6abdd23ab0f",
   "metadata": {},
   "source": [
    "## 2. 자연수 n이 입력되면,  n을 뒤집어 각 자리 숫자를 원소로 가지는 리스트 형태로 출력하는 코드 구현."
   ]
  },
  {
   "cell_type": "code",
   "execution_count": 2,
   "id": "fc8f1985-4f2c-4003-92b8-86a8f36cbde3",
   "metadata": {},
   "outputs": [
    {
     "name": "stdin",
     "output_type": "stream",
     "text": [
      " 56789\n"
     ]
    },
    {
     "name": "stdout",
     "output_type": "stream",
     "text": [
      "input n :  56789\n",
      "[9, 8, 7, 6, 5]\n"
     ]
    }
   ],
   "source": [
    "n = input()\n",
    "assert int(n)>0, \"자연수를 입력해 주세요.\"\n",
    "\n",
    "print(\"input n : \", n)\n",
    "print(list(map(int, str(n)[::-1])))"
   ]
  },
  {
   "cell_type": "markdown",
   "id": "d3fdaa40-71ac-4101-9622-fe14ae8e92a2",
   "metadata": {},
   "source": [
    "## 3.  숫자 n이 입력되면, n개의 랜덤 숫자가 다음 줄에 순서대로 입력됨.  그 중 가장 작은 수 1개를 출력하는 코드 구현"
   ]
  },
  {
   "cell_type": "code",
   "execution_count": 3,
   "id": "413c37ab-7839-4d86-8c65-7d635b10b506",
   "metadata": {},
   "outputs": [
    {
     "name": "stdin",
     "output_type": "stream",
     "text": [
      " 6\n"
     ]
    },
    {
     "name": "stdout",
     "output_type": "stream",
     "text": [
      "input n :  6\n",
      "89 71 25 60 64 49 \n",
      "-> 25\n"
     ]
    }
   ],
   "source": [
    "import random\n",
    "\n",
    "n = input()\n",
    "rand_num_list = [random.randint(0,100) for i in range(int(n))]\n",
    "\n",
    "print(\"input n : \", n)\n",
    "\n",
    "for i in rand_num_list:\n",
    "    print(i, end=' ')\n",
    "\n",
    "print('\\n->', min(rand_num_list))"
   ]
  },
  {
   "cell_type": "markdown",
   "id": "74a05aa6-4de4-4d15-9f04-c092fc1e69f7",
   "metadata": {},
   "source": [
    "## 4.  숫자 n이 입력되면, n개의 랜덤 숫자가 다음 줄에 순서대로 입력됨. 그 중 최댓값과 최댓값이 몇 번째 수인지 출력하는 코드 구현."
   ]
  },
  {
   "cell_type": "code",
   "execution_count": 4,
   "id": "1d380025-3550-4c20-a9ca-7c5a76199409",
   "metadata": {},
   "outputs": [
    {
     "name": "stdin",
     "output_type": "stream",
     "text": [
      " 6\n"
     ]
    },
    {
     "name": "stdout",
     "output_type": "stream",
     "text": [
      "input n :  6\n",
      "97 93 50 100 60 62 \n",
      "-> 100\n",
      "-> 4\n"
     ]
    }
   ],
   "source": [
    "import random\n",
    "\n",
    "n = input()\n",
    "rand_num_list = [random.randint(0,100) for i in range(int(n))]\n",
    "\n",
    "print(\"input n : \", n)\n",
    "\n",
    "for i in rand_num_list:\n",
    "    print(i, end=' ')\n",
    "\n",
    "print('\\n->', max(rand_num_list))\n",
    "print('->', rand_num_list.index(max(rand_num_list))+1)"
   ]
  }
 ],
 "metadata": {
  "kernelspec": {
   "display_name": "Python 3",
   "language": "python",
   "name": "python3"
  },
  "language_info": {
   "codemirror_mode": {
    "name": "ipython",
    "version": 3
   },
   "file_extension": ".py",
   "mimetype": "text/x-python",
   "name": "python",
   "nbconvert_exporter": "python",
   "pygments_lexer": "ipython3",
   "version": "3.8.8"
  }
 },
 "nbformat": 4,
 "nbformat_minor": 5
}
