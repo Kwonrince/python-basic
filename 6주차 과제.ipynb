{
 "cells": [
  {
   "cell_type": "markdown",
   "id": "13cce9f4-595b-4d7d-907d-b4119ded6cd6",
   "metadata": {},
   "source": [
    "## [클래스1] \n",
    "\n",
    "#### 원의 둘레, 넓이를 구하는 클래스 구현\n",
    "\n",
    "생성자 : 원의 반지름\n",
    "\n",
    "메소드 : 원의 둘레, 원의 넓이 "
   ]
  },
  {
   "cell_type": "code",
   "execution_count": 1,
   "id": "2ff957ae-102f-405e-967a-0c06a4159347",
   "metadata": {},
   "outputs": [],
   "source": [
    "import math\n",
    "\n",
    "class circle():\n",
    "    def __init__(self, radius):\n",
    "        self.radius = radius\n",
    "\n",
    "    def get_area(self):\n",
    "        area = math.pi * self.radius * self.radius\n",
    "        print('area =', area)\n",
    "\n",
    "    def get_round(self):\n",
    "        round_ = 2 * math.pi * self.radius\n",
    "        print('round =', round_)"
   ]
  },
  {
   "cell_type": "code",
   "execution_count": 2,
   "id": "23fe04df-804a-45b5-a48a-65f2be1d5c97",
   "metadata": {},
   "outputs": [],
   "source": [
    "one = circle(5)"
   ]
  },
  {
   "cell_type": "code",
   "execution_count": 3,
   "id": "a447791c-a898-456f-a340-c706b50991c4",
   "metadata": {},
   "outputs": [
    {
     "name": "stdout",
     "output_type": "stream",
     "text": [
      "area = 78.53981633974483\n"
     ]
    }
   ],
   "source": [
    "one.get_area()"
   ]
  },
  {
   "cell_type": "code",
   "execution_count": 4,
   "id": "57b872fc-e610-41e6-bc27-e938badc1ded",
   "metadata": {},
   "outputs": [
    {
     "name": "stdout",
     "output_type": "stream",
     "text": [
      "round = 31.41592653589793\n"
     ]
    }
   ],
   "source": [
    "one.get_round()"
   ]
  },
  {
   "cell_type": "markdown",
   "id": "84b0be80-c0e8-454c-a3cf-34a49cc9aa8a",
   "metadata": {},
   "source": [
    "## [클래스2] \n",
    "\n",
    "#### 구구단 계산 클래스 구현 \n",
    "\n",
    "생성자 : 구구단 계산할 숫자 (자연수 1~9)\n",
    "\n",
    "메소드 : 구구단 계산 (출력 형식은 아래와 같음)"
   ]
  },
  {
   "cell_type": "code",
   "execution_count": 5,
   "id": "fe04e71e-fe7a-49e4-8221-039c9ff2cd7f",
   "metadata": {},
   "outputs": [],
   "source": [
    "class pigeonSay():\n",
    "    def __init__(self, num):\n",
    "        self.num = num\n",
    "        \n",
    "        assert self.num>=1 and self.num<=9 and type(self.num), '1~9의 자연수를 입력하세요.'\n",
    "    \n",
    "    def calc(self):\n",
    "        for i in range(1,10):\n",
    "            print(self.num, 'x', i, '=', self.num*i)"
   ]
  },
  {
   "cell_type": "code",
   "execution_count": 6,
   "id": "3e2653e3-cb77-4e73-b424-85afa4d78da8",
   "metadata": {},
   "outputs": [],
   "source": [
    "gugu = pigeonSay(5)"
   ]
  },
  {
   "cell_type": "code",
   "execution_count": 7,
   "id": "ebaffae5-ceac-4a60-ad32-3f3675e8107d",
   "metadata": {},
   "outputs": [
    {
     "name": "stdout",
     "output_type": "stream",
     "text": [
      "5 x 1 = 5\n",
      "5 x 2 = 10\n",
      "5 x 3 = 15\n",
      "5 x 4 = 20\n",
      "5 x 5 = 25\n",
      "5 x 6 = 30\n",
      "5 x 7 = 35\n",
      "5 x 8 = 40\n",
      "5 x 9 = 45\n"
     ]
    }
   ],
   "source": [
    "gugu.calc()"
   ]
  }
 ],
 "metadata": {
  "kernelspec": {
   "display_name": "Python 3",
   "language": "python",
   "name": "python3"
  },
  "language_info": {
   "codemirror_mode": {
    "name": "ipython",
    "version": 3
   },
   "file_extension": ".py",
   "mimetype": "text/x-python",
   "name": "python",
   "nbconvert_exporter": "python",
   "pygments_lexer": "ipython3",
   "version": "3.8.8"
  }
 },
 "nbformat": 4,
 "nbformat_minor": 5
}
